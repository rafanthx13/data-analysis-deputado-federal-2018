{
 "cells": [
  {
   "cell_type": "markdown",
   "id": "44ba1d38",
   "metadata": {},
   "source": [
    "# Deputado Fedral para Qualquer estado - 2018\n",
    "\n",
    "Creado em: 14/06/2022\n",
    "\n",
    "Objetivo: Criar csv com votos\n",
    "+ Com exceçâo de Bahia e de São paulo, não tem votos por ciade, apenas o total de votos (pois demora muito)\n",
    "\n",
    "Dados do TSE + Voto da Gazeta do Povo\n",
    "\n",
    "JUNHO DE 2022 \n",
    "+ Infelsimente a pagina da gazeta com os sitse pessoasi nao funciona\n",
    "+ Infelismente os dados do TSE nâo funcionam por webScraping\n",
    "\n",
    "https://especiais.gazetadopovo.com.br/eleicoes/2018/resultados/municipios-bahia/deputado-federal-candidato-pastor-sargento-isidorio-7000/"
   ]
  },
  {
   "cell_type": "markdown",
   "id": "e91a5202",
   "metadata": {
    "ExecuteTime": {
     "end_time": "2022-06-14T14:55:00.480866Z",
     "start_time": "2022-06-14T14:55:00.472871Z"
    }
   },
   "source": [
    "# Import Libs"
   ]
  },
  {
   "cell_type": "code",
   "execution_count": 2,
   "id": "857bdb38",
   "metadata": {
    "ExecuteTime": {
     "end_time": "2022-06-15T02:22:05.611574Z",
     "start_time": "2022-06-15T02:22:03.329669Z"
    }
   },
   "outputs": [],
   "source": [
    "import requests\n",
    "from bs4 import BeautifulSoup\n",
    "import pandas as pd\n",
    "import os \n",
    "\n",
    "pd.set_option('display.max_rows', 500)\n",
    "pd.set_option('display.max_columns', 500)\n",
    "pd.set_option('display.width', 1000)\n",
    "pd.options.display.float_format = '{:.2f}'.format"
   ]
  },
  {
   "cell_type": "markdown",
   "id": "81eb9354",
   "metadata": {},
   "source": [
    "# Snippets"
   ]
  },
  {
   "cell_type": "code",
   "execution_count": 4,
   "id": "d05678a6",
   "metadata": {
    "ExecuteTime": {
     "end_time": "2022-06-15T02:22:19.462637Z",
     "start_time": "2022-06-15T02:22:19.441647Z"
    }
   },
   "outputs": [],
   "source": [
    "def to_df_from_list_of_objs_sorted(list_of_obj):\n",
    "    \"\"\"\n",
    "        Converte de:\n",
    "    [{'id': 5, 'nome': 'rafael'},  {'id': 6, 'nome': 'marta'}]\n",
    "        Para DataFrame\n",
    "    OBS: Esse processo é mais complxo pois tem que ser feito\n",
    "    \"\"\"\n",
    "    variables = list_of_obj[0].keys()\n",
    "\n",
    "    def aux_obj_to_list_sorted(obj, features):\n",
    "        alist = []\n",
    "        for feat in features:\n",
    "            alist.append(obj[feat])\n",
    "        return alist\n",
    "\n",
    "    return pd.DataFrame(\n",
    "                list( map( lambda x: aux_obj_to_list_sorted(x, variables), list_of_obj)),\n",
    "                columns = variables)"
   ]
  },
  {
   "cell_type": "code",
   "execution_count": 5,
   "id": "08f1c124",
   "metadata": {
    "ExecuteTime": {
     "end_time": "2022-06-15T02:22:19.882652Z",
     "start_time": "2022-06-15T02:22:19.868665Z"
    }
   },
   "outputs": [],
   "source": [
    "def convert_long_comment_in_string(long_txt):\n",
    "    \"\"\"\n",
    "    Converte uma string grande em uma lista\n",
    "    ideal para lsitar as colunas que queremos do dataset apartir deo uso de 3 aspas\n",
    "    \"\"\"\n",
    "    return list(map(lambda x: x.strip(), long_txt.split('\\n')[1:-1] ))"
   ]
  },
  {
   "cell_type": "code",
   "execution_count": 6,
   "id": "9ec95aa2",
   "metadata": {
    "ExecuteTime": {
     "end_time": "2022-06-15T02:22:20.484859Z",
     "start_time": "2022-06-15T02:22:20.465870Z"
    }
   },
   "outputs": [],
   "source": [
    "def request_get(url, lib_parser = 'html.parser'):\n",
    "    \"\"\"\n",
    "    lib_paeser : 'html.parser' // \n",
    "    return BeautifulSoupPage\n",
    "    \"\"\"\n",
    "    response = requests.get(url)\n",
    "    if(response.status_code != 200):\n",
    "        print(url, 'Erro Code')\n",
    "        quit()\n",
    "    return BeautifulSoup(response.text, lib_parser)"
   ]
  },
  {
   "cell_type": "markdown",
   "id": "d078aa54",
   "metadata": {},
   "source": [
    "# Buscar dados do TSE"
   ]
  },
  {
   "cell_type": "code",
   "execution_count": 7,
   "id": "b1fef7d0",
   "metadata": {
    "ExecuteTime": {
     "end_time": "2022-06-15T02:22:21.833611Z",
     "start_time": "2022-06-15T02:22:21.819617Z"
    }
   },
   "outputs": [],
   "source": [
    "list_cols_candidato = \"\"\"\n",
    "SQ_CANDIDATO\n",
    "DS_CARGO\n",
    "NM_CANDIDATO\n",
    "NR_CANDIDATO\n",
    "NM_URNA_CANDIDATO\n",
    "DS_SITUACAO_CANDIDATURA\n",
    "DS_DETALHE_SITUACAO_CAND\n",
    "NR_PARTIDO\n",
    "SG_PARTIDO\n",
    "NM_PARTIDO\n",
    "NM_MUNICIPIO_NASCIMENTO\n",
    "DT_NASCIMENTO\n",
    "DS_GENERO\n",
    "DS_GRAU_INSTRUCAO\n",
    "DS_ESTADO_CIVIL\n",
    "DS_COR_RACA\n",
    "DS_OCUPACAO\n",
    "ST_REELEICAO\n",
    "DS_SIT_TOT_TURNO\n",
    "DS_SITUACAO_CANDIDATO_URNA\n",
    "\"\"\"\n",
    "\n",
    "list_cols_despesas_contratadas = \"\"\"\n",
    "DS_CARGO\n",
    "SQ_CANDIDATO\n",
    "NR_CANDIDATO\n",
    "VR_DESPESA_CONTRATADA\n",
    "\"\"\"\n",
    "\n",
    "list_cols_receitas = \"\"\"\n",
    "DS_CARGO\n",
    "SQ_CANDIDATO\n",
    "NR_CANDIDATO\n",
    "VR_RECEITA\n",
    "\"\"\"\n",
    "    \n",
    "replace_tse_cols = {\n",
    "    'SQ_CANDIDATO': 'id_tse',\n",
    "    'DS_CARGO_x': 'cargo',\n",
    "    'NM_CANDIDATO': 'nome_completo',\n",
    "    'NR_CANDIDATO_x': 'numero_candidato',\n",
    "    'NM_URNA_CANDIDATO': 'nome_urna',\n",
    "    'DS_SITUACAO_CANDIDATURA': 'situacao_candidatura',\n",
    "    'DS_DETALHE_SITUACAO_CAND': 'detalhe_situacao_candidatura',\n",
    "    'NM_PARTIDO': 'nome_partido',\n",
    "    'NR_PARTIDO': 'numero_partido',\n",
    "    'SG_PARTIDO': 'sigla_partido',\n",
    "    'NM_MUNICIPIO_NASCIMENTO': 'municipio_nascimento',\n",
    "    'DT_NASCIMENTO': 'data_nascimento',\n",
    "    'DS_GENERO': 'genero',\n",
    "    'DS_GRAU_INSTRUCAO': 'grau_instrucao',\n",
    "    'DS_ESTADO_CIVIL': 'estado_civil',\n",
    "    'DS_COR_RACA': 'cor_raca',\n",
    "    'DS_OCUPACAO': 'ocupacao',\n",
    "    'ST_REELEICAO': 'reeleicao',\n",
    "    'DS_SIT_TOT_TURNO': 'venceu',\n",
    "    'DS_SITUACAO_CANDIDATO_URNA': 'situacao_candidatura_urna',\n",
    "    'VR_BEM_CANDIDATO': 'bens',\n",
    "    'VR_RECEITA': 'receita_campanha',\n",
    "    'VR_DESPESA_CONTRATADA': 'despesa_contratada_campanha',\n",
    "}\n",
    "\n"
   ]
  },
  {
   "cell_type": "code",
   "execution_count": 8,
   "id": "caad10a7",
   "metadata": {
    "ExecuteTime": {
     "end_time": "2022-06-15T02:22:22.654199Z",
     "start_time": "2022-06-15T02:22:22.649207Z"
    }
   },
   "outputs": [],
   "source": [
    "files_templates = {\n",
    "    'df_bens': './../dataset/tse_csv/bem_candidato_2018_XX.csv',\n",
    "    'df_candidato': './../dataset/tse_csv/consulta_cand_2018_XX.csv',\n",
    "    'df_despesas_contratadas': './../dataset/tse_csv/despesas_contratadas_candidatos_2018_XX.csv',\n",
    "    'df_receitas': './../dataset/tse_csv/receitas_candidatos_2018_XX.csv',\n",
    "}"
   ]
  },
  {
   "cell_type": "code",
   "execution_count": 9,
   "id": "51b02be1",
   "metadata": {
    "ExecuteTime": {
     "end_time": "2022-06-15T02:22:23.391165Z",
     "start_time": "2022-06-15T02:22:23.378173Z"
    }
   },
   "outputs": [],
   "source": [
    "def replace_float_comma(x):\n",
    "    return float(x.replace(',','.')) if not pd.isna(x) else x"
   ]
  },
  {
   "cell_type": "code",
   "execution_count": 11,
   "id": "cceefce4",
   "metadata": {
    "ExecuteTime": {
     "end_time": "2022-06-15T02:23:52.291901Z",
     "start_time": "2022-06-15T02:23:26.367187Z"
    },
    "scrolled": true
   },
   "outputs": [
    {
     "name": "stdout",
     "output_type": "stream",
     "text": [
      "=============== RJ ===============\n"
     ]
    },
    {
     "data": {
      "text/html": [
       "<div>\n",
       "<style scoped>\n",
       "    .dataframe tbody tr th:only-of-type {\n",
       "        vertical-align: middle;\n",
       "    }\n",
       "\n",
       "    .dataframe tbody tr th {\n",
       "        vertical-align: top;\n",
       "    }\n",
       "\n",
       "    .dataframe thead th {\n",
       "        text-align: right;\n",
       "    }\n",
       "</style>\n",
       "<table border=\"1\" class=\"dataframe\">\n",
       "  <thead>\n",
       "    <tr style=\"text-align: right;\">\n",
       "      <th></th>\n",
       "      <th>number</th>\n",
       "      <th>name</th>\n",
       "      <th>img_url</th>\n",
       "      <th>votos</th>\n",
       "      <th>porcentagem</th>\n",
       "    </tr>\n",
       "  </thead>\n",
       "  <tbody>\n",
       "    <tr>\n",
       "      <th>0</th>\n",
       "      <td>1720</td>\n",
       "      <td>Helio Fernando Barbosa Lopes</td>\n",
       "      <td>https://cdn-eleicoes.gazetadopovo.com.br/fotos...</td>\n",
       "      <td>4,47%</td>\n",
       "      <td>345234</td>\n",
       "    </tr>\n",
       "    <tr>\n",
       "      <th>1</th>\n",
       "      <td>5050</td>\n",
       "      <td>Marcelo Freixo</td>\n",
       "      <td>https://cdn-eleicoes.gazetadopovo.com.br/fotos...</td>\n",
       "      <td>4,44%</td>\n",
       "      <td>342491</td>\n",
       "    </tr>\n",
       "    <tr>\n",
       "      <th>2</th>\n",
       "      <td>4040</td>\n",
       "      <td>Alessandro Molon</td>\n",
       "      <td>https://cdn-eleicoes.gazetadopovo.com.br/fotos...</td>\n",
       "      <td>2,95%</td>\n",
       "      <td>227914</td>\n",
       "    </tr>\n",
       "  </tbody>\n",
       "</table>\n",
       "</div>"
      ],
      "text/plain": [
       "  number                          name                                            img_url  votos porcentagem\n",
       "0   1720  Helio Fernando Barbosa Lopes  https://cdn-eleicoes.gazetadopovo.com.br/fotos...  4,47%      345234\n",
       "1   5050                Marcelo Freixo  https://cdn-eleicoes.gazetadopovo.com.br/fotos...  4,44%      342491\n",
       "2   4040              Alessandro Molon  https://cdn-eleicoes.gazetadopovo.com.br/fotos...  2,95%      227914"
      ]
     },
     "metadata": {},
     "output_type": "display_data"
    },
    {
     "name": "stdout",
     "output_type": "stream",
     "text": [
      "=============== MG ===============\n"
     ]
    },
    {
     "data": {
      "text/html": [
       "<div>\n",
       "<style scoped>\n",
       "    .dataframe tbody tr th:only-of-type {\n",
       "        vertical-align: middle;\n",
       "    }\n",
       "\n",
       "    .dataframe tbody tr th {\n",
       "        vertical-align: top;\n",
       "    }\n",
       "\n",
       "    .dataframe thead th {\n",
       "        text-align: right;\n",
       "    }\n",
       "</style>\n",
       "<table border=\"1\" class=\"dataframe\">\n",
       "  <thead>\n",
       "    <tr style=\"text-align: right;\">\n",
       "      <th></th>\n",
       "      <th>number</th>\n",
       "      <th>name</th>\n",
       "      <th>img_url</th>\n",
       "      <th>votos</th>\n",
       "      <th>porcentagem</th>\n",
       "    </tr>\n",
       "  </thead>\n",
       "  <tbody>\n",
       "    <tr>\n",
       "      <th>0</th>\n",
       "      <td>1717</td>\n",
       "      <td>Marcelo Alvaro Antonio</td>\n",
       "      <td>https://cdn-eleicoes.gazetadopovo.com.br/fotos...</td>\n",
       "      <td>2,28%</td>\n",
       "      <td>230008</td>\n",
       "    </tr>\n",
       "    <tr>\n",
       "      <th>1</th>\n",
       "      <td>1312</td>\n",
       "      <td>Reginaldo Lopes</td>\n",
       "      <td>https://cdn-eleicoes.gazetadopovo.com.br/fotos...</td>\n",
       "      <td>1,93%</td>\n",
       "      <td>194332</td>\n",
       "    </tr>\n",
       "    <tr>\n",
       "      <th>2</th>\n",
       "      <td>7040</td>\n",
       "      <td>Andre Janones</td>\n",
       "      <td>https://cdn-eleicoes.gazetadopovo.com.br/fotos...</td>\n",
       "      <td>1,77%</td>\n",
       "      <td>178660</td>\n",
       "    </tr>\n",
       "  </tbody>\n",
       "</table>\n",
       "</div>"
      ],
      "text/plain": [
       "  number                    name                                            img_url  votos porcentagem\n",
       "0   1717  Marcelo Alvaro Antonio  https://cdn-eleicoes.gazetadopovo.com.br/fotos...  2,28%      230008\n",
       "1   1312         Reginaldo Lopes  https://cdn-eleicoes.gazetadopovo.com.br/fotos...  1,93%      194332\n",
       "2   7040           Andre Janones  https://cdn-eleicoes.gazetadopovo.com.br/fotos...  1,77%      178660"
      ]
     },
     "metadata": {},
     "output_type": "display_data"
    },
    {
     "name": "stdout",
     "output_type": "stream",
     "text": [
      "=============== PR ===============\n"
     ]
    },
    {
     "data": {
      "text/html": [
       "<div>\n",
       "<style scoped>\n",
       "    .dataframe tbody tr th:only-of-type {\n",
       "        vertical-align: middle;\n",
       "    }\n",
       "\n",
       "    .dataframe tbody tr th {\n",
       "        vertical-align: top;\n",
       "    }\n",
       "\n",
       "    .dataframe thead th {\n",
       "        text-align: right;\n",
       "    }\n",
       "</style>\n",
       "<table border=\"1\" class=\"dataframe\">\n",
       "  <thead>\n",
       "    <tr style=\"text-align: right;\">\n",
       "      <th></th>\n",
       "      <th>number</th>\n",
       "      <th>name</th>\n",
       "      <th>img_url</th>\n",
       "      <th>votos</th>\n",
       "      <th>porcentagem</th>\n",
       "    </tr>\n",
       "  </thead>\n",
       "  <tbody>\n",
       "    <tr>\n",
       "      <th>0</th>\n",
       "      <td>5590</td>\n",
       "      <td>Sargento Fahur</td>\n",
       "      <td>https://cdn-eleicoes.gazetadopovo.com.br/fotos...</td>\n",
       "      <td>5,49%</td>\n",
       "      <td>314963</td>\n",
       "    </tr>\n",
       "    <tr>\n",
       "      <th>1</th>\n",
       "      <td>1777</td>\n",
       "      <td>Felipe Francischini</td>\n",
       "      <td>https://cdn-eleicoes.gazetadopovo.com.br/fotos...</td>\n",
       "      <td>4,21%</td>\n",
       "      <td>241537</td>\n",
       "    </tr>\n",
       "    <tr>\n",
       "      <th>2</th>\n",
       "      <td>1313</td>\n",
       "      <td>Gleisi Lula</td>\n",
       "      <td>https://cdn-eleicoes.gazetadopovo.com.br/fotos...</td>\n",
       "      <td>3,71%</td>\n",
       "      <td>212513</td>\n",
       "    </tr>\n",
       "  </tbody>\n",
       "</table>\n",
       "</div>"
      ],
      "text/plain": [
       "  number                 name                                            img_url  votos porcentagem\n",
       "0   5590       Sargento Fahur  https://cdn-eleicoes.gazetadopovo.com.br/fotos...  5,49%      314963\n",
       "1   1777  Felipe Francischini  https://cdn-eleicoes.gazetadopovo.com.br/fotos...  4,21%      241537\n",
       "2   1313          Gleisi Lula  https://cdn-eleicoes.gazetadopovo.com.br/fotos...  3,71%      212513"
      ]
     },
     "metadata": {},
     "output_type": "display_data"
    },
    {
     "name": "stdout",
     "output_type": "stream",
     "text": [
      "=============== SC ===============\n"
     ]
    },
    {
     "data": {
      "text/html": [
       "<div>\n",
       "<style scoped>\n",
       "    .dataframe tbody tr th:only-of-type {\n",
       "        vertical-align: middle;\n",
       "    }\n",
       "\n",
       "    .dataframe tbody tr th {\n",
       "        vertical-align: top;\n",
       "    }\n",
       "\n",
       "    .dataframe thead th {\n",
       "        text-align: right;\n",
       "    }\n",
       "</style>\n",
       "<table border=\"1\" class=\"dataframe\">\n",
       "  <thead>\n",
       "    <tr style=\"text-align: right;\">\n",
       "      <th></th>\n",
       "      <th>number</th>\n",
       "      <th>name</th>\n",
       "      <th>img_url</th>\n",
       "      <th>votos</th>\n",
       "      <th>porcentagem</th>\n",
       "    </tr>\n",
       "  </thead>\n",
       "  <tbody>\n",
       "    <tr>\n",
       "      <th>0</th>\n",
       "      <td>1010</td>\n",
       "      <td>Hélio Costa</td>\n",
       "      <td>https://cdn-eleicoes.gazetadopovo.com.br/fotos...</td>\n",
       "      <td>5,05%</td>\n",
       "      <td>179307</td>\n",
       "    </tr>\n",
       "    <tr>\n",
       "      <th>1</th>\n",
       "      <td>1717</td>\n",
       "      <td>Daniel Freitas</td>\n",
       "      <td>https://cdn-eleicoes.gazetadopovo.com.br/fotos...</td>\n",
       "      <td>4,02%</td>\n",
       "      <td>142571</td>\n",
       "    </tr>\n",
       "    <tr>\n",
       "      <th>2</th>\n",
       "      <td>1350</td>\n",
       "      <td>Professor Pedro Uczai</td>\n",
       "      <td>https://cdn-eleicoes.gazetadopovo.com.br/fotos...</td>\n",
       "      <td>3,25%</td>\n",
       "      <td>115232</td>\n",
       "    </tr>\n",
       "  </tbody>\n",
       "</table>\n",
       "</div>"
      ],
      "text/plain": [
       "  number                   name                                            img_url  votos porcentagem\n",
       "0   1010            Hélio Costa  https://cdn-eleicoes.gazetadopovo.com.br/fotos...  5,05%      179307\n",
       "1   1717         Daniel Freitas  https://cdn-eleicoes.gazetadopovo.com.br/fotos...  4,02%      142571\n",
       "2   1350  Professor Pedro Uczai  https://cdn-eleicoes.gazetadopovo.com.br/fotos...  3,25%      115232"
      ]
     },
     "metadata": {},
     "output_type": "display_data"
    },
    {
     "name": "stdout",
     "output_type": "stream",
     "text": [
      "=============== RS ===============\n"
     ]
    },
    {
     "data": {
      "text/html": [
       "<div>\n",
       "<style scoped>\n",
       "    .dataframe tbody tr th:only-of-type {\n",
       "        vertical-align: middle;\n",
       "    }\n",
       "\n",
       "    .dataframe tbody tr th {\n",
       "        vertical-align: top;\n",
       "    }\n",
       "\n",
       "    .dataframe thead th {\n",
       "        text-align: right;\n",
       "    }\n",
       "</style>\n",
       "<table border=\"1\" class=\"dataframe\">\n",
       "  <thead>\n",
       "    <tr style=\"text-align: right;\">\n",
       "      <th></th>\n",
       "      <th>number</th>\n",
       "      <th>name</th>\n",
       "      <th>img_url</th>\n",
       "      <th>votos</th>\n",
       "      <th>porcentagem</th>\n",
       "    </tr>\n",
       "  </thead>\n",
       "  <tbody>\n",
       "    <tr>\n",
       "      <th>0</th>\n",
       "      <td>3030</td>\n",
       "      <td>Marcel van Hattem</td>\n",
       "      <td>https://cdn-eleicoes.gazetadopovo.com.br/fotos...</td>\n",
       "      <td>5,99%</td>\n",
       "      <td>349855</td>\n",
       "    </tr>\n",
       "    <tr>\n",
       "      <th>1</th>\n",
       "      <td>2522</td>\n",
       "      <td>Onyx Lorenzoni</td>\n",
       "      <td>https://cdn-eleicoes.gazetadopovo.com.br/fotos...</td>\n",
       "      <td>3,14%</td>\n",
       "      <td>183518</td>\n",
       "    </tr>\n",
       "    <tr>\n",
       "      <th>2</th>\n",
       "      <td>2222</td>\n",
       "      <td>Giovani Cherini</td>\n",
       "      <td>https://cdn-eleicoes.gazetadopovo.com.br/fotos...</td>\n",
       "      <td>2,60%</td>\n",
       "      <td>151719</td>\n",
       "    </tr>\n",
       "  </tbody>\n",
       "</table>\n",
       "</div>"
      ],
      "text/plain": [
       "  number               name                                            img_url  votos porcentagem\n",
       "0   3030  Marcel van Hattem  https://cdn-eleicoes.gazetadopovo.com.br/fotos...  5,99%      349855\n",
       "1   2522     Onyx Lorenzoni  https://cdn-eleicoes.gazetadopovo.com.br/fotos...  3,14%      183518\n",
       "2   2222    Giovani Cherini  https://cdn-eleicoes.gazetadopovo.com.br/fotos...  2,60%      151719"
      ]
     },
     "metadata": {},
     "output_type": "display_data"
    }
   ],
   "source": [
    "# Precisa de 4 arquivos do TSE mais o mapemaneto do estado na variavel 'estados'\n",
    "estados = {\n",
    "#     'SP': ['sp', 'sao-paulo'],\n",
    "   'RJ': ['rj', 'rio-de-janeiro'],\n",
    "   'MG': ['mg', 'minas-gerais'], \n",
    "   'PR': ['pr', 'parana'],\n",
    "   'SC': ['sc', 'santa-catarina'],\n",
    "   'RS': ['rs', 'rio-grande-do-sul']\n",
    "}\n",
    "index_sigla, index_name = 0, 1\n",
    "\n",
    "for estado, value in estados.items():\n",
    "    print('===============', estado, '===============')\n",
    "    # df_bens\n",
    "    df_bens = pd.read_csv(\n",
    "        files_templates['df_bens'].replace('XX',estado), encoding='latin1', sep=';')\n",
    "    df_bens['VR_BEM_CANDIDATO'] = df_bens['VR_BEM_CANDIDATO'].apply(replace_float_comma)\n",
    "    df_bens = df_bens.groupby('SQ_CANDIDATO').sum().reset_index()[['SQ_CANDIDATO','VR_BEM_CANDIDATO']]\n",
    "    # df_candidato\n",
    "    df_candidato = pd.read_csv(\n",
    "        files_templates['df_candidato'].replace('XX', estado), encoding='latin1', sep=';')\n",
    "    df_candidato = df_candidato[convert_long_comment_in_string(list_cols_candidato)]\n",
    "    # df_despesas_contratadas\n",
    "    df_despesas_contratadas = pd.read_csv(\n",
    "        files_templates['df_despesas_contratadas'].replace('XX', estado), encoding='latin1', sep=';')\n",
    "    df_despesas_contratadas['VR_DESPESA_CONTRATADA'] = df_despesas_contratadas['VR_DESPESA_CONTRATADA'].apply(replace_float_comma)\n",
    "    df_despesas_contratadas = df_despesas_contratadas[convert_long_comment_in_string(list_cols_despesas_contratadas)]\n",
    "    df_despesas_contratadas = df_despesas_contratadas.groupby('SQ_CANDIDATO').sum().reset_index()\n",
    "    # df_receitas\n",
    "    df_receitas = pd.read_csv(\n",
    "        files_templates['df_receitas'].replace('XX',estado), encoding='latin1', sep=';')\n",
    "    df_receitas['VR_RECEITA'] = df_receitas['VR_RECEITA'].apply(replace_float_comma)\n",
    "    df_receitas = df_receitas[convert_long_comment_in_string(list_cols_receitas)]\n",
    "    df_receitas = df_receitas.groupby(df_receitas.columns.tolist()[:-1]).sum().reset_index()\n",
    "    # df_tse\n",
    "    df_tse = df_candidato.merge(df_bens, how='left', left_on='SQ_CANDIDATO', right_on='SQ_CANDIDATO')\n",
    "    df_tse = df_tse.merge(df_receitas, how='left', left_on='SQ_CANDIDATO', right_on='SQ_CANDIDATO')\n",
    "    df_tse = df_tse.merge(df_despesas_contratadas, how='left', left_on='SQ_CANDIDATO', right_on='SQ_CANDIDATO')\n",
    "    df_tse = df_tse.rename(replace_tse_cols, axis='columns')\n",
    "    df_tse = df_tse.drop(['NR_CANDIDATO', 'NR_CANDIDATO_y', 'DS_CARGO_y'], axis='columns')\n",
    "    df_tse = df_tse.replace({'#NULO#': np.NaN, -1: np.NaN})\n",
    "    \n",
    "    \n",
    "    deputado_info_url = 'https://especiais.gazetadopovo.com.br/eleicoes/2018/resultados/eleitos-deputado-federal-XXX-quem-ganhou/'\n",
    "    deputado_info_url = deputado_info_url.replace('XXX', value[index_sigla])\n",
    "    soup_gazeta_all_deputado = request_get(deputado_info_url)\n",
    "    list_tr = soup_gazeta_all_deputado.find('tbody').find_all('tr')\n",
    "    \n",
    "    deputado_info_urls = []\n",
    "    deputado_federal_direct_info = []\n",
    "\n",
    "    for el in list_tr:\n",
    "        deputado_federal_info = {}\n",
    "        tds = el.find_all('td')\n",
    "        deputado_info_urls.append(tds[0].find('a')['href'])\n",
    "        deputado_federal_info['number'] = tds[0].find('a')['href'].split('-')[-1].replace('/','')\n",
    "        deputado_federal_info['name'] =  tds[0].find('h2').get_text().strip().replace(' Eleito','')\n",
    "        deputado_federal_info['img_url'] =  tds[0].find('img')['data-lazy-src']\n",
    "        spans = tds[1].find_all('span')\n",
    "        deputado_federal_info['votos'] = spans[0].get_text().strip()\n",
    "        deputado_federal_info['porcentagem'] = spans[1].get_text().split(' ')[0].replace('.','')\n",
    "        deputado_federal_direct_info.append(deputado_federal_info)\n",
    "        \n",
    "    # create dataframe votes\n",
    "    df_deputado_votos = to_df_from_list_of_objs_sorted(deputado_federal_direct_info)\n",
    "    display(df_deputado_votos.head(3))\n",
    "    # save\n",
    "    file_with_votes = './../dataset/generated/deputado_federal_XXX_2018_votes.csv'.replace('XXX', estado)\n",
    "    df_deputado_votos.to_csv(file_with_votes, index=False, sep=';')\n",
    "    # load\n",
    "    df_deputado_votos_re = pd.read_csv(file_with_votes, sep=';')\n",
    "    df_deputado_votos_re = df_deputado_votos_re[['number','votos','porcentagem']]\n",
    "    df_tse = df_tse.merge(df_deputado_votos_re, how='left', left_on='numero_candidato', right_on='number')\n",
    "    display(df_tse.head(3))\n",
    "    # save tse\n",
    "    file_tse_output = './../dataset/generated/tse_eleicoes_dep_federal_XXX_2018_cleaned.csv'.replace('XXX', estado)\n",
    "    df_tse.to_csv(file_tse_output, index=False, sep=';')"
   ]
  },
  {
   "cell_type": "code",
   "execution_count": null,
   "id": "295d0885",
   "metadata": {},
   "outputs": [],
   "source": []
  }
 ],
 "metadata": {
  "kernelspec": {
   "display_name": "Python 3 (ipykernel)",
   "language": "python",
   "name": "python3"
  },
  "language_info": {
   "codemirror_mode": {
    "name": "ipython",
    "version": 3
   },
   "file_extension": ".py",
   "mimetype": "text/x-python",
   "name": "python",
   "nbconvert_exporter": "python",
   "pygments_lexer": "ipython3",
   "version": "3.10.4"
  },
  "toc": {
   "base_numbering": 1,
   "nav_menu": {},
   "number_sections": true,
   "sideBar": true,
   "skip_h1_title": false,
   "title_cell": "Table of Contents",
   "title_sidebar": "Contents",
   "toc_cell": false,
   "toc_position": {},
   "toc_section_display": true,
   "toc_window_display": false
  },
  "varInspector": {
   "cols": {
    "lenName": 16,
    "lenType": 16,
    "lenVar": 40
   },
   "kernels_config": {
    "python": {
     "delete_cmd_postfix": "",
     "delete_cmd_prefix": "del ",
     "library": "var_list.py",
     "varRefreshCmd": "print(var_dic_list())"
    },
    "r": {
     "delete_cmd_postfix": ") ",
     "delete_cmd_prefix": "rm(",
     "library": "var_list.r",
     "varRefreshCmd": "cat(var_dic_list()) "
    }
   },
   "types_to_exclude": [
    "module",
    "function",
    "builtin_function_or_method",
    "instance",
    "_Feature"
   ],
   "window_display": false
  }
 },
 "nbformat": 4,
 "nbformat_minor": 5
}
